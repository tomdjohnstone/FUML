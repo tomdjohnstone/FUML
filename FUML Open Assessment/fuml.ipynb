{
 "cells": [
  {
   "cell_type": "code",
   "execution_count": 61,
   "metadata": {},
   "outputs": [
    {
     "name": "stdout",
     "output_type": "stream",
     "text": [
      "0.9923185088278264\n",
      "-2.4672548930517495\n"
     ]
    }
   ],
   "source": [
    "from sklearn import linear_model\n",
    "from sklearn.linear_model import LinearRegression\n",
    "import numpy as np\n",
    "from sklearn.metrics import r2_score\n",
    "\n",
    "def extractTrainingData(data): \n",
    "    trainingDataArray = []\n",
    "    i=0\n",
    "    while i < 75:\n",
    "        trainingDataArray.append(data[i])\n",
    "        i+=1\n",
    "    return trainingDataArray\n",
    "\n",
    "def extractTestData(data):\n",
    "    testDataArray = []\n",
    "    i = 75\n",
    "    while i < 100:\n",
    "        testDataArray.append(data[i])\n",
    "        i+=1\n",
    "    return testDataArray   \n",
    "        \n",
    "X=np.loadtxt('data.csv', delimiter=',',skiprows=1, usecols=(0,1,2,3,4))\n",
    "Y=np.loadtxt('data.csv', delimiter=',',skiprows=1, usecols=(5))\n",
    "\n",
    "trainingX=extractTrainingData(X)\n",
    "trainingY=extractTrainingData(Y)             \n",
    "testX=extractTestData(X)\n",
    "testY=extractTestData(Y)\n",
    "\n",
    "linearModel=LinearRegression()\n",
    "linearModel.fit(trainingX,trainingY)\n",
    "#modelCoefficients=linearModel.coef_\n",
    "#print(modelCoefficients)\n",
    "linearTestPredictions=linearModel.predict(testX)\n",
    "\n",
    "lassoModel=linear_model.Lasso()\n",
    "lassoModel.fit(trainingX,trainingY)\n",
    "lassoTestPredictions=lassoModel.predict(testX)\n",
    "\n",
    "print(r2_score(testY, linearTestPredictions))\n",
    "print(r2_score(testY, lassoTestPredictions))"
   ]
  },
  {
   "cell_type": "code",
   "execution_count": null,
   "metadata": {},
   "outputs": [],
   "source": []
  },
  {
   "cell_type": "code",
   "execution_count": null,
   "metadata": {},
   "outputs": [],
   "source": []
  },
  {
   "cell_type": "code",
   "execution_count": null,
   "metadata": {},
   "outputs": [],
   "source": []
  },
  {
   "cell_type": "code",
   "execution_count": null,
   "metadata": {},
   "outputs": [],
   "source": []
  }
 ],
 "metadata": {
  "kernelspec": {
   "display_name": "Python 3",
   "language": "python",
   "name": "python3"
  },
  "language_info": {
   "codemirror_mode": {
    "name": "ipython",
    "version": 3
   },
   "file_extension": ".py",
   "mimetype": "text/x-python",
   "name": "python",
   "nbconvert_exporter": "python",
   "pygments_lexer": "ipython3",
   "version": "3.8.3"
  }
 },
 "nbformat": 4,
 "nbformat_minor": 4
}
